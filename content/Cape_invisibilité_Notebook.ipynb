{
 "cells": [
  {
   "cell_type": "markdown",
   "metadata": {},
   "source": [
    "<H1>Cape d'invisibilité en Python : HSV versus RGB..</H1>\n",
    "Vidéo : <a href = \"https://youtu.be/RbZNrDFwvwI\">démo de la cape d'invisibilité</a>( https://youtu.be/RbZNrDFwvwI )\n",
    "<img src=\"AvecCapeRGB.jpg\"  width=350px alt=\"\" />"
   ]
  },
  {
   "cell_type": "markdown",
   "metadata": {},
   "source": [
    "<u>Somaire : </u>\n",
    "<li><span><a href=\"#-I.-Import-de-modules-préalables-:-\" data-toc-modified-id=\"-I.-Import-de-modules-préalables-:-\"><span class=\"toc-item-num\">I&nbsp;&nbsp;</span> Import de modules préalables : </a></span></li>\n",
    "<li><span><a href=\"#-II.-Introduction-:-Logique-de-la-cape-d'invisibilité-:-\" data-toc-modified-id=\"-II.-Introduction-:-Logique-de-la-cape-d'invisibilité-:-\"><span class=\"toc-item-num\">II&nbsp;&nbsp;</span>Introduction : Logique de la cape d'invisibilité : </a></span></li>\n",
    "\n",
    "<li><span><a href=\"#-A.-Mise-en-scène-:-\" data-toc-modified-id=\"-A.-Mise-en-scène-:-\"><span class=\"toc-item-num\">&nbsp;&nbsp;&nbsp;&nbsp;A.&nbsp;&nbsp;</span>Mise en scène : </a></span></li>\n",
    "\n",
    "<li><span><a href=\"#-B.-Fenêtre-de-'couleur'-simplifiée-:-HSV-versus-RGB-\" data-toc-modified-id=\"-B.-Fenêtre-de-'couleur'-simplifiée-:-HSV-versus-RGB-\"><span class=\"toc-item-num\">&nbsp;&nbsp;&nbsp;&nbsp;B.&nbsp;&nbsp;</span>Fenêtre de 'couleur' simplifiée : HSV versus RGB </a></span></li>\n",
    "\n",
    "<li><span><a href=\"#-III.-Etude-du-script-de-la-cape-d'invisibilité-:-\" data-toc-modified-id=\"-III.-Etude-du-script-de-la-cape-d'invisibilité-:-\"><span class=\"toc-item-num\">III&nbsp;&nbsp;</span>Etude du script de la cape d'invisibilité :</a></span></li>\n",
    "\n",
    "<li><span><a href=\"#-A.-De-l'image-à-la-vidéo-modifiée-:-La-boucle-While-\" data-toc-modified-id=\"-A.-De-l'image-à-la-vidéo-modifiée-:-La-boucle-While-\"><span class=\"toc-item-num\">&nbsp;&nbsp;&nbsp;&nbsp;A.&nbsp;&nbsp;</span>De l'image à la vidéo modifiée : La boucle While</a></span></li>\n",
    "\n",
    "<li><span><a href=\"#-B.-Logigramme-des-transformations-RGB/HSV-:-\" data-toc-modified-id=\"-B.-Logigramme-des-transformations-RGB/HSV-:-\"><span class=\"toc-item-num\">&nbsp;&nbsp;&nbsp;&nbsp;B.&nbsp;&nbsp;</span>Logigramme des transformations RGB/HSV :</a></span></li>\n",
    "\n",
    "<li><span><a href=\"#-C.-Etude-de-l'ensemble-des-pixels-d'une-image-:-\" data-toc-modified-id=\"-C.-Etude-de-l'ensemble-des-pixels-d'une-image-:-\"><span class=\"toc-item-num\">&nbsp;&nbsp;&nbsp;&nbsp;C.&nbsp;&nbsp;</span>Etude de l'ensemble des pixels d'une image : </a></span></li>\n",
    "\n",
    "<li><span><a href=\"#-IV.-Script-(Python)-de-la-cape-d'invisibilité-:-\" data-toc-modified-id=\"-IV.-Script-(Python)-de-la-cape-d'invisibilité-:-\"><span class=\"toc-item-num\">IV&nbsp;&nbsp;</span>Script (Python) de la cape d'invisibilité  :</a></span></li>\n",
    " \n",
    " <li><span><a href=\"#-Bug-?-:-\" data-toc-modified-id=\"-Bug-?-:-\"><span class=\"toc-item-num\">&nbsp;&nbsp;</span>Bug ? :</a></span></li>\n"
   ]
  },
  {
   "cell_type": "markdown",
   "metadata": {},
   "source": [
    "<H2><u> I. Import de modules préalables : </u></H2>"
   ]
  },
  {
   "cell_type": "markdown",
   "metadata": {},
   "source": [
    "<u><i>Exécutez la cellule ci-dessous ; </i></u><br>\n",
    "Si un message d'erreur, type module inexistant, apparait : il vous faudra les installer...<br>\n",
    "==> Si vous travaillez avec Edupython : faire : Outils->Outils->installer un module avec pip <br>\n",
    "<i>(Normalement, Edupython 3.7.6 __ 2020 possède tous ces modules sauf imageio qu'il faudra 'piper')</i>\n"
   ]
  },
  {
   "cell_type": "code",
   "execution_count": 2,
   "metadata": {},
   "outputs": [],
   "source": [
    "import cv2\n",
    "from PIL import Image\n",
    "import numpy as np\n",
    "import matplotlib.pyplot as plt\n",
    "import IPython.display\n",
    "import imageio"
   ]
  },
  {
   "cell_type": "markdown",
   "metadata": {},
   "source": [
    "<h2><u> II. Introduction : Logique de la cape d'invisibilité : </u></h2>\n",
    "<h4><u> A. Mise en scène : </u></h4>\n",
    "<br><u><b>Travail :</b></u><i> Proposez, dans la cellule 'proposition' ci-dessous, une <u><b>stratégie numérique</b></u> <br>\n",
    "permettant d'effacer une cape d'une couleur définie pour voir apparaître<br> \n",
    "ce qu'il y a derrière le personnage qui porte la cape...<i>"
   ]
  },
  {
   "cell_type": "markdown",
   "metadata": {},
   "source": [
    "Votre proposition : "
   ]
  },
  {
   "cell_type": "markdown",
   "metadata": {},
   "source": [
    "<details><summary>(<u>Solution :</u> cliquez 1 fois <b>ici</b>) :</summary><br/>\n",
    "    <u>Il faut d'abord considérer qu'il y a 2 images avec le même décor :</u><br/><br/>\n",
    "* une image avec le décor sans personne devant,<br>\n",
    "    <img src=\"FondvisibleRGB.jpg\"  width=350px alt=\"\" /><br>\n",
    "    * et, 'par dessus', une <u>image</u> extraite de la <u><i><b>vidéo en cours</b></i></u> du <u>même décor</u> avec un personnage mobile.\n",
    "        <img src=\"FondvisibleRGB3.jpg\"  width=350px alt=\"\" /><br>\n",
    "    ==> La logique consiste à tester la couleur de <u>chaque pixel</u> de l'image de la vidéo (640 x 480 = 307200 pixels testés tous les 1/24ème seconde !!!),<br><br>\n",
    "==> Si la couleur du pixel correspond à celle qui était recherchée, alors le script donne à ce pixel la même couleur que celui se trouvant à la même position dans l'image fixe du décor : le pixel a donc 'disparu'!\n",
    "             <img src=\"FondvisibleRGB5.jpg\"  width=350px alt=\"\" /> \n",
    "</details>"
   ]
  },
  {
   "cell_type": "markdown",
   "metadata": {},
   "source": [
    "<h4><u> B. Fenêtre de 'couleur' simplifiée : HSV versus RGB </u></h4><br>\n",
    "Le codage des couleurs des images numériques le plus courant est le codage RGB (ou RVB en français : Rouge, Vert Bleu):\n",
    "<br><br>\n",
    "--> La couleur d'un pixel est donc le résultat du mélange d'une quantité  de rouge, de vert et de bleu :\n",
    "             <img src=\"vert.jpg\"   alt=\"\" /> \n",
    " <br><br>\n",
    " Voici à quoi pourrait ressembler un objet contenant l'ensemble des couleurs <u><b><i>selon le codage RGB</i></b></u> : \n",
    "              <img src=\"cube.jpg\"   width=250px alt=\"\" /> "
   ]
  },
  {
   "cell_type": "markdown",
   "metadata": {},
   "source": [
    "<u><b>Question : </b></u> Regardez bien ce cube.. Imaginons que la cape d'invisibilité soit verte..<br>\n",
    "==> Est-ce que, selon vous, il sera aisé de choisir une teinte de couleur de cape (et toutes ses variations) à l'aide d'une seule grandeur (R, G, V) ?<br> Argumentez dans la cellule ci-dessous.."
   ]
  },
  {
   "cell_type": "markdown",
   "metadata": {},
   "source": [
    "Votre réponse argumentée : "
   ]
  },
  {
   "cell_type": "markdown",
   "metadata": {},
   "source": [
    "<details><summary>(<u>Solution</u> : cliquez 1 fois <b>ici</b>) :</summary><br/>\n",
    "Sur ce cube, on voit bien que toutes les briques un peu vertes du cube ne se trouvent pas uniquement sur une arrête du cube...<br><br>\n",
    "Autrement dit, de la même façon que le gilet vert de l'homme qui creuse contenait un peu de bleu et de rouge, cela veut dire que différents codages de vert nécessiteront des combinaisons sur les 3 axes !\n",
    "<br><br>\n",
    "    <b><u>Ce codage RGB est donc trop complexe pour dire au script de rendre la cape verte invisible !!</u></b>\n",
    "<br><br>    \n",
    "    <details><summary>(<u>Suite</u> : cliquez 1 fois <b>ici</b>) :</summary><br/>\n",
    "    Il nous faut donc utiliser un <u><b>autre codage de couleurs</b></u> pour notre image.. Le codage HSV.\n",
    "<br><br> \n",
    "HSV signifie Hue Saturation Value, ce qui se traduit par : Teinte, Saturation et Valeur.\n",
    "<br><br>        \n",
    " ==> Voici à quoi pourrait ressembler un objet contenant l'ensemble des couleurs <u><b><i>selon le codage HSV </i></b></u> : <br>\n",
    "              <img src=\"TSV.jpg\"   width=250px alt=\"\" /> <br>\n",
    "<u><b>Question : </b></u> Regardez bien ce 'camembert'.. Imaginons que la cape d'invisibilité soit verte..<br>\n",
    "==> Est-ce que, selon vous, il sera plus aisé de choisir une teinte de couleur de cape (et toutes ses variations) à l'aide d'une seule grandeur (T, S ou V) ?<br> Argumentez dans la cellule ci-dessous..\n",
    "</details>\n"
   ]
  },
  {
   "cell_type": "markdown",
   "metadata": {},
   "source": [
    "Votre réponse argumentée : "
   ]
  },
  {
   "cell_type": "markdown",
   "metadata": {},
   "source": [
    "<details><summary>(<u>Solution</u> : cliquez 1 fois <b>ici</b>) :</summary><br/>\n",
    "Sur ce camembert, on voit bien que Hue (la teinte de la couleur) suit un cercle qui conteint toutes les teintes.. <br>\n",
    "                  <img src=\"Teinte_valeur.jpg\"   width=400px alt=\"\" />\n",
    "    Autrement dit, si on choist un angle de ce cercle on pourra <b><i>globalement</i></b> cibler une couleur.. et ses variations ?\n",
    "    <br><br>\n",
    "A présent, imaginons qu'une partie de la cape soit dans l'ombre : on aura alors des verts foncés..\n",
    "    <br><br>\n",
    "    ==> Donc il nous faut aussi paramétrer les valeurs S et V pour cibler toute notre cape !\n",
    "        <br><br>\n",
    "    MAIS.. au moins, la couleur globale de la cape est aisément définie à l'aide d'un seul paramètre : H.\n",
    "    <br><br>\n",
    "    <b><u> Exercice : </u></b><br><br>\n",
    " Observez les 4 photos ci-dessous : Les contrôles Smin et Vmax ont été bloqués respectivement à 0 et 255 ; Seul le contrôle sur Hmax varie : <br>\n",
    "    ==> Vous pouvez observer que lorsque Hmax augmente des couleurs disparaissent : d'abord bleu, puis vert, puis rouge..<br>\n",
    "    <i><b>Essayez de reproduire ces captures d'écran en exécutant le script en fin de Notebook !</b></i>\n",
    "                      <img src=\"HmaxVarie.jpg\"    alt=\"\" />  \n",
    "</details>"
   ]
  },
  {
   "cell_type": "markdown",
   "metadata": {},
   "source": [
    "<H2><u> III. Etude du script de la cape d'invisibilité : </u></H2>"
   ]
  },
  {
   "cell_type": "markdown",
   "metadata": {},
   "source": [
    "<h4><u> A. De l'image à la vidéo modifiée : La boucle While </u></h4>"
   ]
  },
  {
   "cell_type": "markdown",
   "metadata": {},
   "source": [
    "Qu'est-ce qu'une vidéo si ce n'est une suite d'images !! <br><br>\n",
    "Autrement dit, losque votre webcam vous filme et que l'écran vous présente la vidéo en direct... En réalité, la webcam prend des photos qu'elle envoit, une à une, à votre ordinateur qui les présente rapidement dans une fenêtre... et ceci, <b><u>tant que </u></b>l'utilisateur le souhaite !<br><br>\n",
    "JUSTEMENT, <b><u>tant que </u></b> est codé, en Python, avec la fonction <b><u>while</u></b> : <br><br>\n",
    "    <b><u> Exercice : </u></b><br><br>\n",
    "1) Retrouver dans le script le ou les N° de ligne (sélectionnez la cellule du script-->barre bleue, et appuyez sur ' l ' ) où apparaissent une boucle while :<br> \n",
    "2) Quel argument contient cette fonction while, et qu'est-ce que cela veut dire ? : <br>\n",
    "3) Cette boucle while est-elle infinie ? Comment l'utilisateur peut en sortir ? Quelle instruction Python est utilisée ? :\n"
   ]
  },
  {
   "cell_type": "markdown",
   "metadata": {},
   "source": [
    "<details><summary>(<u>Solution</u> : cliquez 1 fois <b>ici</b>) :</summary><br/>\n",
    "1) lignes : 10 et 36.<br>\n",
    "2) il contient l'argument True : cela veut dire : vrai<br>\n",
    "3) while cherche à savoir si son argument est vrai ; Donc le fait de lui donner l'argument déjà vrai (True) implique que le 'tant que' est infini. Pour sortir le sctript prévoit que l'utilisateur appuis sur une touche ce qui enclenche une instruction break qui interrompt la boucle.\n",
    "   \n",
    "</details>"
   ]
  },
  {
   "cell_type": "markdown",
   "metadata": {},
   "source": [
    "<h4><u> B. Logigramme des transformations RGB/HSV : </u></h4>"
   ]
  },
  {
   "cell_type": "markdown",
   "metadata": {},
   "source": [
    "<b><u> Exercice </u></b>: Etudiez le script pour répondre aux questions suivantes :<br><br>\n",
    "1) La 1ère fenêtre vidéo qui nous est présentée est en codage HSV, GBR ou RGB ?<br>\n",
    "2) Avant d'être enregistrée, l'image du décor subit des transformations de son codage couleur : lesquelles ?<br>\n",
    "3) Pour le 2ème flux vidéo, chaque image captée subit des transformations de son codage couleur avant qu'elles ne soient montrées : lesquelles ?<br>\n",
    "4) Pourquoi le dernier encodage couleur de cette image vidéo est important vis à vis des contrôles ?<br>\n",
    "5) Est-ce que finalement l'échange des pixels (vidéo/décor) se fait sous le même encodage couleur ? Si oui lequel ?<br>\n",
    "6) L'image vidéo qui nous est présentée a t-elle subi une dernière transformation d'encodage couleur ?"
   ]
  },
  {
   "cell_type": "markdown",
   "metadata": {},
   "source": [
    "<details><summary>(<u>Solution</u> : cliquez 1 fois <b>ici</b>) :</summary><br/>\n",
    "1) Décor --> RGB --> Observation.<br>\n",
    "2) Décor --> RGB --> BGR --> HSV ==> Enregistrement.<br>\n",
    "3) Image_vidéo --> RGB --> BGR --> HSV.<br>\n",
    "4) Le contrôle des teintes des images, et donc leur transformation, est plus aisé en HSV qu'en RGB, donc on travaille en HSV.<br>\n",
    "5) Oui, le décor et l'image_vidéo sont alors encodé en HSV : donc les pixels échangés ont le même encodage !<br>\n",
    "6) L'image transformée qui était en HSV repasse en RGB pour nous être présentée.\n",
    "   \n",
    "</details>"
   ]
  },
  {
   "cell_type": "markdown",
   "metadata": {},
   "source": [
    "<h4><u> C. Etude de l'ensemble des pixels d'une image : </u></h4>"
   ]
  },
  {
   "cell_type": "markdown",
   "metadata": {},
   "source": [
    "<b><u> Exercice </u></b>: Etudiez le script pour répondre aux questions suivantes :<br><br>\n",
    "1) Etant donné que la méthode getpixel permet de récupérer le tupple (H,S,V) d'un pixel d'une image, expliquer l'intérêt d'utiliser préalablement la méthode Image.fromarray :<br>\n",
    "2) Expliquer ce que fait le script pour étudier <b><u>chacun</u></b> des pixels d'une image :<br>\n",
    "3) Pourquoi dans les boucles for, les bornes supérieures sont variable-1 ? :<br>\n",
    "4) Dans le cas où Smin est fixé à 0 et Vmax fixé à 255, comment interprétez vous la condition if ligne 55 ? Quel sera le résultat au niveau des couleurs de l'image visible lorsqu'on augmente progressivement Hmax ?<br>\n",
    "5) Proposez alors une solution qui permettrait d'éliminer que le vert mais pas le bleu ! :"
   ]
  },
  {
   "cell_type": "markdown",
   "metadata": {},
   "source": [
    "<details><summary>(<u>Solution</u> : cliquez 1 fois <b>ici</b>) :</summary><br/>\n",
    "1) La variable nommée img1 n'est pas une image mais un tableau de valeurs. Sans doute que la méthode getpixel nécessite de travailler sur une image d'où la nécessité de transformer le tableau en image.<br>\n",
    "2) Le script va parcourir l'ensemble des pixels de l'image : pour cela, il fixe d'abord la variable hauteur de l'image, puis parcoure toutes les largeurs possibles, ensuite il implémente la hauteur et recommence : c'est une double boucle for intriquée.<br>\n",
    "3) Si la largeur est de 640 pixels, il faut se rappeler que l'indexation d'une suite d'éléments commence toujours par 0 : donc de 0 à 639 !<br>\n",
    "4) Si Smin est à 0 et Vmax à 255, les conditions sur S/Smin et V/Vmax seront toujours vérifiées. Donc les couleurs présentées dans l'image ne dépondront que du curseur Hmax : Dès lors, l'augmentation progressive du curseur Hmax entraîne la disparition progressive du bleu, puis du vert et enfin du rouge.<br>\n",
    "5) En gardant Smin à 0 et Vmax à 255, on pourrait tester la condition si H est compris entre 2 valeurs Hmax1 et Hmax2 qui encadre uniquement le vert.  \n",
    "</details>"
   ]
  },
  {
   "cell_type": "markdown",
   "metadata": {},
   "source": [
    "<H2><u> IV. Script (Python) de la cape d'invisibilité : </u></H2>"
   ]
  },
  {
   "cell_type": "markdown",
   "metadata": {},
   "source": [
    "<h4>--> Notice : </h4> \n",
    "Lorsque vous lancez le script, faîtes en sorte de ne présenter que le décor à la caméra et appuyez sur ' p ' pour enregistrer le décor. <br>Puis la vidéo reprend et vous pouvez alors placer les curseurs de contrôle Hmax Smin et Vmax comme bon vous semble....<br> <i><b>Pour sortir de la vidéo, appuyez sur ' q '</b></i>\n",
    "<br><br> Si vous rencontrez un bug.. pas de panique : une solution se trouve en fin de Notebook."
   ]
  },
  {
   "cell_type": "code",
   "execution_count": 3,
   "metadata": {},
   "outputs": [],
   "source": [
    "###################################################\n",
    "def sauvegarde_image(matrice):\n",
    "    nom_format=\"Fondvisible.jpg\"\n",
    "    imageio.imwrite(nom_format, matrice[:, :]) # Enregistrement dans le dossier en cours de l'image 'matrice'\n",
    "#####################################################\n",
    "def trackChaned(x):\n",
    "    pass\n",
    "#####################################################\n",
    "camera=cv2.VideoCapture(0) # Initiation de la caméra #0 pour la webcam intégrée, et 1 pour la webcam externe\n",
    "while(True): \n",
    "    ret,img1=camera.read() # prise d'1 image par la caméra\n",
    "    # Attention, img1 est en format : tableau : de pixels représentant l'image\n",
    "    cv2.imshow(\"Enregistrement du Fond : -> Touche p\", img1) # présentation de l'image dans 1 fenêtre avec 1 titre\n",
    "    if(cv2.waitKey(1) ==ord(\"p\")): # Condition : si on appuis sur la touche p\n",
    "        capture=img1\n",
    "        capture= cv2.cvtColor(capture, cv2.COLOR_RGB2BGR) # Passage du codage des couleurs de RGB à BGR\n",
    "        capture= cv2.cvtColor(capture, cv2.COLOR_BGR2HSV) # Passage du codage des couleurs de BGR à HSV\n",
    "        sauvegarde_image(capture) # Appel de la fonction (voir plus haut)\n",
    "        break; \n",
    "camera.release() # Extinction de la caméra\n",
    "cv2.destroyAllWindows() # Fermeture de la fenêtre (vidéo)\n",
    "#####################################################\n",
    "#####################################################\n",
    "camera=cv2.VideoCapture(0) \n",
    "######## Ci-dessous : Construction de la fenêtre des curseurs de contrôle HSV #######\n",
    "cv2.namedWindow(\"Controles :\",1) # création d'1 fenêtre\n",
    "cv2.resizeWindow(\"Controles :\", (320,140)) # détermination de sa taille\n",
    "cv2.moveWindow(\"Controles :\", 973,50) # et de son positionnement\n",
    "cv2.createTrackbar(\"Hmax=\", \"Controles :\",0,180,trackChaned) #  Création d'une barre de contrôle de 0 à 180 nommée Hmax\n",
    "cv2.createTrackbar(\"Smin=\", \"Controles :\",0,255,trackChaned) #  ..\n",
    "cv2.createTrackbar(\"Vmax=\", \"Controles :\",0,255,trackChaned) #  ..\n",
    "cv2.setTrackbarPos(\"Hmax=\", \"Controles :\",0) # On impose le curseur à 0 pour Hmax\n",
    "cv2.setTrackbarPos(\"Smin=\", \"Controles :\",0) # ..\n",
    "cv2.setTrackbarPos(\"Vmax=\", \"Controles :\",255) # ..\n",
    "######## Fin de paramétrage de la fenêtre des curseurs de contrôle HSV #######\n",
    "while(True): \n",
    "    ret,img1=camera.read() # Attention, img1 est en format : tableau : de pixel représentant l'image\n",
    "    img1= cv2.cvtColor(img1, cv2.COLOR_RGB2BGR)\n",
    "    img1= cv2.cvtColor(img1, cv2.COLOR_BGR2HSV)\n",
    "    Hmax=cv2.getTrackbarPos(\"Hmax=\", \"Controles :\") # On récupère la position du curseur Hmax\n",
    "    Smin=cv2.getTrackbarPos(\"Smin=\", \"Controles :\") # ..\n",
    "    Vmax=cv2.getTrackbarPos(\"Vmax=\", \"Controles :\") # ..\n",
    "##############\n",
    "    img2 = Image.open('Fondvisible.jpg') # On ouvre, dans img2, le décor seul (en format image !)\n",
    "    largeur = img1.shape[0] # on récupère la largeur de l'image vidéo\n",
    "    hauteur = img1.shape[1] # et sa hauteur\n",
    "    img1_img= Image.fromarray(img1) # Attention, on transforme le tableau de pixel d'img1 en image !\n",
    "    for y in range (0, hauteur-1):\n",
    "        for x in range (0,largeur-1):\n",
    "            Codage_Couleur_pixel_video= img1_img.getpixel((y,x))# méthode getpixel récupère le tupple du codage couleur du\n",
    "            # ..pixel à la position y,x de l'image.\n",
    "            H=Codage_Couleur_pixel_video[0] # Accès au 1er élément du tupple\n",
    "            S=Codage_Couleur_pixel_video[1] # ..\n",
    "            V=Codage_Couleur_pixel_video[2] # ..\n",
    "            if H<Hmax and S>Smin and V<Vmax: # Test du pixel vidéo par rapport aux contrôles \n",
    "                Codage_Couleur_pixel_fond= img2.getpixel((y,x))  \n",
    "                Nouveau_H=Codage_Couleur_pixel_fond[0]\n",
    "                Nouveau_S=Codage_Couleur_pixel_fond[1]\n",
    "                Nouveau_V=Codage_Couleur_pixel_fond[2]\n",
    "                img1_img.putpixel((y,x), (Nouveau_H,Nouveau_S,Nouveau_V)) # méthode putpixel pour imposer les couleurs\n",
    "    img1 = np.array(img1_img) #attention, on retransforme l'image en tableau de pixels\n",
    "    img1= cv2.cvtColor(img1, cv2.COLOR_HSV2RGB)\n",
    "    cv2.imshow(\"Cape d invisibilite (vert) ; q pour sortir.\", img1)\n",
    "    if(cv2.waitKey(1) ==ord(\"q\")):\n",
    "        break;\n",
    "camera.release()\n",
    "cv2.destroyAllWindows()"
   ]
  },
  {
   "cell_type": "markdown",
   "metadata": {},
   "source": [
    "<H1> Bug ? : </H1>\n",
    "\n",
    "--> Activez (Enlever les # et exécutez) la cellule suivante."
   ]
  },
  {
   "cell_type": "code",
   "execution_count": 4,
   "metadata": {},
   "outputs": [],
   "source": [
    "# camera.release()\n",
    "# cv2.destroyAllWindows()"
   ]
  }
 ],
 "metadata": {
  "kernelspec": {
   "display_name": "Python 3 (ipykernel)",
   "language": "python",
   "name": "python3"
  },
  "language_info": {
   "codemirror_mode": {
    "name": "ipython",
    "version": 3
   },
   "file_extension": ".py",
   "mimetype": "text/x-python",
   "name": "python",
   "nbconvert_exporter": "python",
   "pygments_lexer": "ipython3",
   "version": "3.9.13"
  }
 },
 "nbformat": 4,
 "nbformat_minor": 2
}
