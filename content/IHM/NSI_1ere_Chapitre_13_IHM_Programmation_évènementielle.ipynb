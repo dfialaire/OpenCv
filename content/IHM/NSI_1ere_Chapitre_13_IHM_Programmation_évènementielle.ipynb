{
 "cells": [
  {
   "cell_type": "markdown",
   "id": "0a18b311",
   "metadata": {},
   "source": [
    "<div style=\"text-align:center; border:2px solid black; font-size: 1.8em;\">\n",
    "<h1>Chapitre 13 : IHM : Programmation évènementielle</h1>\n",
    "    <br>\n",
    "</div>"
   ]
  },
  {
   "cell_type": "markdown",
   "id": "8832e70d",
   "metadata": {},
   "source": [
    "La plupart des programmes que nous utilisons sont <u><b><span style=\"color:green\">interactifs</span></b></u>.<br>\n",
    "C'est à dire que l'utilisateur peut modifier le comportement du programme qu'il utilise : <br>\n",
    "<ul>On parle d'<i>Interface Humain Machine</i> : <b><span style=\"color:blue\">IHM</span></b></ul>\n",
    "</ul>\n",
    "Cette interface utilisateur peut être :\n",
    "<ul>\n",
    "    <li><u><i>textuelles</i></u> : comme nous venons de le voir sur le chapitre '<i>système d'exploitation</i>'</li>\n",
    "    <li><i><u>graphique</u></i> : application dans laquelle se trouve des composants graphiques tels que :</li>\n",
    "<ul>\n",
    "    <li>des boutons,</li>\n",
    "    <li>des curseurs,</li>\n",
    "    <li>des menus,</li>\n",
    "    <li>des images,</li>\n",
    "    <li>des zones de textes...</li></ul>\n",
    "    <br><ul>Nous n'allons pas reconstruire l'IHM graphique '<i><b>Windows</b></i>',<br> mais nous allons tout de même créer une IHM graphique interactive sous forme d'une <b>fenêtre <u><span style=\"color:green\">Tkinter</span></u></b> !"
   ]
  },
  {
   "cell_type": "markdown",
   "id": "f1ecd15e",
   "metadata": {},
   "source": [
    "<div style=\"font-size: 1.3em;\">\n",
    "<u><b>Contenu</b></u> :<br><br>\n",
    "</div>\n",
    "<a href=\"#-I.-La-bibliothèque-python-tkinter-:-\" > I. La bibliothèque python tkinter : </a><br />\n",
    "<ul>\n",
    "     <li><a href=\"#-I.1-Création-d'une-fenêtre-:-\" > I.1 Création d'une fenêtre : </a><br/></li>\n",
    "     <li><a href=\"#-I.2-Ajout-de-labels-:-\" > I.2 Ajout de labels : </a><br/></li>\n",
    "    <li><a href=\"#-I.3-Ajout-de-zones-de-saisie-de-texte-:-\" > I.3 Ajout de zones de saisie de texte : </a><br></li>\n",
    "    <li><a href=\"#-I.4-Ajout-d'un-bouton-:-\" > I.4 Ajout d'un bouton : </a><br></li>\n",
    "</ul>\n",
    "<a href=\"#-II.-Programmation-évènementielle-avec-tkinter-:-\" > II. Programmation évènementielle avec tkinter : </a><br />"
   ]
  },
  {
   "cell_type": "markdown",
   "id": "c3d9df3f",
   "metadata": {},
   "source": [
    " <u><h2> I. La bibliothèque python tkinter : </h2></u>"
   ]
  },
  {
   "cell_type": "markdown",
   "id": "6c1d849c",
   "metadata": {},
   "source": [
    "<div style=\"text-align:center; border:0px ;background-color:FireBrick;margin:10px 10px 0px 10px;padding:10px;\">\n",
    "    </div>\n",
    "<div style=\"border:2px solid red;margin:0px 10px 10px 10px;padding:10px;\">\n",
    "Le module <b><span style=\"color:green\">tkinter</span></b> de la biliothèque standard Python permet de construire des interfaces graphiques <span style=\"color:red\"><b>portables</b></span> : <br>\n",
    "<ul><i><span style=\"color:red\">C'est à dire qu'elles fonctionnent sur les principaux systèmes d'exploitation !</span></i>"
   ]
  },
  {
   "cell_type": "markdown",
   "id": "cfcdc0ac",
   "metadata": {},
   "source": [
    " <u><h3> I.1 Création d'une fenêtre : </h3></u>"
   ]
  },
  {
   "cell_type": "markdown",
   "id": "9ca8e882",
   "metadata": {},
   "source": [
    "<div style=\" border:0px ;background-color:LightGreen;margin:5px 5px 0px 5px;padding:5px;\"><div style=\" border:0px ;background-color:LightGreen;margin:5px 5px 0px 5px;padding:5px;\"><b>Testez le code ci-dessous :</b><br>"
   ]
  },
  {
   "cell_type": "code",
   "execution_count": 4,
   "id": "815194a8",
   "metadata": {},
   "outputs": [],
   "source": [
    "import tkinter as tk # le module est importé sous l'allias tk, qu'il faudra réutiliser pour accéder aux fonctions\n",
    "\n",
    "fenetre = tk.Tk() # Tk est le nom d'une classe du module tkinter (la classe est l’usine créant l’objet) \n",
    "# et, ici, 'fenetre' est le nom de l’instance de classe TK (l’instance est l’objet créé)\n",
    "fenetre.title(\"IHM Pro\") # on donne un titre à l'objet 'fenetre'\n",
    "fenetre.geometry(\"500x400\") # on donne une taille à l'objet 'fenetre' : pixels : largeurxlongeur\n",
    "fenetre.mainloop() # mainloop() est une méthode de la classe Tk qui entretient une boucle d'attente d'évènement."
   ]
  },
  {
   "cell_type": "markdown",
   "id": "9c0174e9",
   "metadata": {},
   "source": [
    "<div style=\"text-align:center; border:0px ;background-color:FireBrick;margin:10px 10px 0px 10px;padding:10px;\">\n",
    "    </div>\n",
    "<div style=\"border:2px solid red;margin:0px 10px 10px 10px;padding:10px;\">\n",
    "    <ul>\n",
    "        <li><b><span style=\"color:green\">import</span></b> ****** <b><span style=\"color:green\">as </span></b> ##</li>\n",
    "</ul>Pourquoi est-ce qu'on n'écrit pas tout simplement : <b><span style=\"color:green\">from</span></b> ****** <b><span style=\"color:green\">import * </span></b> ? (rappel : le <b>*</b> signifie : all)<br>\n",
    "    <ul><i>sous-entendu, on importerait tout tkinter... et ensuite, on ferait : fenetre= Tk()</i><br>\n",
    "        <ul>Pour tkinter il est plus prudent (problème de nom de variables) de l'importer de cette manière."
   ]
  },
  {
   "cell_type": "markdown",
   "id": "544a2cea",
   "metadata": {},
   "source": [
    " <u><h3> I.2 Ajout de labels : </h3></u>"
   ]
  },
  {
   "cell_type": "markdown",
   "id": "ce93b7f2",
   "metadata": {},
   "source": [
    "<div style=\"text-align:center; border:0px ;background-color:FireBrick;margin:10px 10px 0px 10px;padding:10px;\">\n",
    "    </div>\n",
    "<div style=\"border:2px solid red;margin:0px 10px 10px 10px;padding:10px;\">\n",
    "    Un <b><i>widget</i></b> classique d'une interface graphique (= élément interactif d'une interface) est le <b><span style=\"color:red\">Label</span></b>, comprenez par là, une zone de texte."
   ]
  },
  {
   "cell_type": "markdown",
   "id": "0790000a",
   "metadata": {},
   "source": [
    "<div style=\" border:0px ;background-color:LightGreen;margin:5px 5px 0px 5px;padding:5px;\"><div style=\" border:0px ;background-color:LightGreen;margin:5px 5px 0px 5px;padding:5px;\"><b>Testez le code ci-dessous :</b><br>"
   ]
  },
  {
   "cell_type": "markdown",
   "id": "5456cfa9",
   "metadata": {},
   "source": [
    "<i>Ps : Notez que la fenêtre précédente n'existe plus, puisqu'on l'a fermé !.. on doit donc la reconstruire.."
   ]
  },
  {
   "cell_type": "code",
   "execution_count": 7,
   "id": "f17bc254",
   "metadata": {},
   "outputs": [],
   "source": [
    "import tkinter as tk\n",
    "fenetre = tk.Tk()  \n",
    "fenetre.title(\"IHM Pro\")\n",
    "fenetre.geometry(\"500x400\") \n",
    "texte1 = tk.Label( fenetre, text=\"Coucou, moi c'est David\", font=(\"sans-serif\", 20))\n",
    "texte1.pack()\n",
    "fenetre.mainloop() "
   ]
  },
  {
   "cell_type": "markdown",
   "id": "9161dd84",
   "metadata": {},
   "source": [
    "<div style=\"text-align:center; border:0px ;background-color:FireBrick;margin:10px 10px 0px 10px;padding:10px;\">\n",
    "    </div>\n",
    "<div style=\"border:2px solid red;margin:0px 10px 10px 10px;padding:10px;\">\n",
    "<ul>\n",
    "    <li>La <b><u>méthode</u> <span style=\"color:red\">Label()</span> de la classe Tk crée une zone de texte</b></li>\n",
    "    <ul>\n",
    "        <li>1er argument de cette méthode Label() : 'fenetre' qui est l'<span style=\"color:red\">instance de classe Tk</span>,</li>\n",
    "        <li>2ème argument : <span style=\"color:red\">text</span> : str</li>\n",
    "        <li>3ème argument (<i><u>optionnel</u></i>) : <span style=\"color:red\">font</span> : correspond au style :</li>\n",
    "        <ul>\n",
    "            <li> 1er argument de font : la police,</li>\n",
    "            <li>2ème argument de font : la taille.</li>\n",
    "        </ul>\n",
    "    <li>La <b><u>méthode</u> <span style=\"color:red\">pack()</span> de la (classe Tk _ héritée) permet de disposer la zone de texte  dans la fenêtre:</b></li>\n",
    "        <ul><i>Essayez de mettre la ligne 6 en commentaire pour voir..</i>"
   ]
  },
  {
   "cell_type": "markdown",
   "id": "eab82c8b",
   "metadata": {},
   "source": [
    "<div style=\"text-align:center; border:0px ;background-color:LightGreen;margin:10px 10px 0px 10px;padding:10px;\">\n",
    "    </div>\n",
    "<div style=\"border:2px solid green;margin:0px 10px 10px 10px;padding:10px;\">\n",
    "<ul>Peut-on écrire plusieurs textes ?    <br><br>\n",
    "<b>Testez le code ci-dessous :</b><br>"
   ]
  },
  {
   "cell_type": "code",
   "execution_count": 10,
   "id": "e4103d7d",
   "metadata": {},
   "outputs": [],
   "source": [
    "import tkinter as tk\n",
    "fenetre = tk.Tk()  \n",
    "fenetre.title(\"Ceci est ma fenêtre tkinter : \")\n",
    "fenetre.geometry(\"500x400\") \n",
    "texte1 = tk.Label( fenetre, text=\"Ceci correspond à mon label texte1\")\n",
    "texte2 = tk.Label( fenetre, text=\"..et ici, le label texte2\")\n",
    "texte3 = tk.Label( fenetre, text=\"..et là, texte3\", font=(\"arial\", 15), fg=\"green\")\n",
    "texte_vide = tk.Label( fenetre)\n",
    "texte4 = tk.Label( fenetre, text=\"..et nous revoila, ici en texte4\", bg=\"blue\", fg=\"orange\", font=(\"bold\", 20))\n",
    "texte1.pack()\n",
    "texte2.pack()\n",
    "texte3.pack()\n",
    "texte_vide.pack()\n",
    "texte4.pack()\n",
    "fenetre.mainloop() "
   ]
  },
  {
   "cell_type": "markdown",
   "id": "fa7971a4",
   "metadata": {},
   "source": [
    "<div style=\"text-align:center; border:0px ;background-color:FireBrick;margin:10px 10px 0px 10px;padding:10px;\">\n",
    "    </div>\n",
    "<div style=\"border:2px solid red;margin:0px 10px 10px 10px;padding:10px;\">\n",
    "<ul>\n",
    "    <li>Autres arguments de la <b><u>méthode</u> <span style=\"color:red\">Label()</span> :</b></li>\n",
    "    <ul>\n",
    "        <li><b><span style=\"color:red\">fg</span></b> = \"color\" : pour l'écriture du texte,</li>\n",
    "        <li><b><span style=\"color:red\">bg</span></b> = \"color\" : pour le fond du texte,</li>\n",
    "    </ul>"
   ]
  },
  {
   "cell_type": "markdown",
   "id": "df8dce2a",
   "metadata": {},
   "source": [
    "<div style=\"text-align:center; border:0px ;background-color:LightGreen;margin:10px 10px 0px 10px;padding:10px;\">\n",
    "    </div>\n",
    "<div style=\"border:2px solid green;margin:0px 10px 10px 10px;padding:10px;\">\n",
    ".. Donc, Oui, on peut placer plusieurs textes,<br>\n",
    "<ul>mais leur positionnement est ridicule pour l'instant : ils s'empilent !<br>\n",
    "    <ul>En effet, la méthode pack() permet d'empiler dans l'ordre séquentiel du code !!<br>\n",
    "        <b>Testez le code ci-dessous :</b><br>"
   ]
  },
  {
   "cell_type": "code",
   "execution_count": 15,
   "id": "fa16e70d",
   "metadata": {},
   "outputs": [],
   "source": [
    "import tkinter as tk\n",
    "fenetre = tk.Tk()  \n",
    "fenetre.title(\"Ceci est ma fenêtre tkinter : \")\n",
    "fenetre.geometry(\"500x400\") \n",
    "texte1 = tk.Label( fenetre, text=\"\\nIl fait Froid dans le Nord\\nBrrrr..\\n\", bg=\"lightblue\")\n",
    "texte2 = tk.Label( fenetre, text=\"Nous,\\nnous habitons dans l'Est\", bg=\"orange\")\n",
    "texte3 = tk.Label( fenetre, text=\"L'Ouest\\nc'est beau aussi\", font=(\"arial\", 15), bg=\"green\")\n",
    "texte4 = tk.Label( fenetre, text=\"\\n\\nOn dirait le Sud..\\n\\n\", bg=\"red\", fg=\"white\", font=(\"bold\", 20))\n",
    "texte5 = tk.Label( fenetre, text = \"\\nVoici le centre !\\n\", bg=\"gray\")\n",
    "texte1.pack(side=\"top\", fill=\"x\")\n",
    "texte2.pack(side = \"right\", fill=\"y\")\n",
    "texte3.pack(side= \"left\", fill=\"y\")\n",
    "texte4.pack(side = \"bottom\")\n",
    "texte5.pack(expand=\"1\", fill=\"both\")\n",
    "fenetre.mainloop() "
   ]
  },
  {
   "cell_type": "markdown",
   "id": "b571237f",
   "metadata": {},
   "source": [
    "<div style=\"text-align:center; border:0px ;background-color:FireBrick;margin:10px 10px 0px 10px;padding:10px;\">\n",
    "    </div>\n",
    "<div style=\"border:2px solid red;margin:0px 10px 10px 10px;padding:10px;\">\n",
    "<ul>\n",
    "    <li>Autres arguments de la <b><u>méthode</u> <span style=\"color:red\">pack()</span> :</b></li>\n",
    "    <ul>\n",
    "        <li><b><span style=\"color:red\">side</span></b> qui peut prendre comme valeurs :</li>\n",
    "        <ul>\n",
    "            <li> = \"top\" : se place en haut.</li>\n",
    "            <li> = \"bottom\" : se place en bas.</li>\n",
    "            <li> = \"left\" : se place à gauche.</li>\n",
    "            <li> = \"right\" : se place à droite.</li>\n",
    "        </ul>\n",
    "        <li><b><span style=\"color:red\">expand</span></b> qui peut prendre comme valeurs :</li>\n",
    "        <ul>\n",
    "            <li>1 : expansion aux bordures des espaces parents.</li>\n",
    "            <li>0 : non expansion.</li>\n",
    "        </ul>\n",
    "        <li><b><span style=\"color:red\">fill</span></b> qui permet de remplir l'espace alloué, selon :</li>\n",
    "        <ul>\n",
    "            <li> = \"x\" : rempli de façon horizontal.</li>\n",
    "            <li> = \"y\" : rempli de façon verticale.</li>\n",
    "            <li> = \"both\" : rempli dans les 2 directions.</li>\n",
    "            </ul>\n",
    "        <img src=\"tkinter_disposition.png\" width=\"700px\">\n",
    "        <img src=\"tkinter_disposition2.png\" width=\"700px\">\n",
    "</ul><b><span style=\"color:purple\"><u>Source à lire si besoin</u> : </span></b>Voir nottamment le code en 3 boucles !<br>\n",
    "        \n",
    "https://stackoverflow.com/questions/28089942/difference-between-fill-and-expand-options-for-tkinter-pack-method"
   ]
  },
  {
   "cell_type": "markdown",
   "id": "a5397af5",
   "metadata": {},
   "source": [
    "<div style=\"text-align:center; border:0px ;background-color:LightGreen;margin:10px 10px 0px 10px;padding:10px;\">\n",
    "    </div>\n",
    "<div style=\"border:2px solid green;margin:0px 10px 10px 10px;padding:10px;\">\n",
    "Cette manière de dispposer les éléments aux 4 coins est pratique si on a 4-5 éléments..<br><br>\n",
    "Mais si on veut réaliser une interface graphique plus fine avec plus d'éléments précisément disposés,<br>\n",
    "    On pourra préférer la <b>méthode grid()</b> :<br><br>\n",
    "    <i><b>Testez le code ci-dessous</b></i>"
   ]
  },
  {
   "cell_type": "code",
   "execution_count": 16,
   "id": "fa2a8c7e",
   "metadata": {},
   "outputs": [],
   "source": [
    "from tkinter import *\n",
    "from random import *\n",
    "fenetre = Tk()\n",
    "fenetre.title(\"Ceci est ma fenêtre tkinter : \")\n",
    "fenetre.geometry(\"476x372\") \n",
    "Couleurs = ['red','white','purple','green','pink','orange','yellow']\n",
    "Nb_Couleurs = len(Couleurs)\n",
    "###############################################\n",
    "for Num_colonn in range(1,7):\n",
    "    for Num_row in range(1,10):\n",
    "        if Num_row%2 != 0:\n",
    "            if Num_colonn%2 == 0:\n",
    "                Index_couleur = randint(0,Nb_Couleurs-1)\n",
    "                texte = \"Colonne N°\" + str(Num_colonn)+\"\\nLigne N°\" + str(Num_row)\n",
    "                tk.Label(fenetre, text=texte, bg=Couleurs[Index_couleur]).grid(column=Num_colonn, row=Num_row)\n",
    "            else:\n",
    "                texte = \"                    \\n                    \"\n",
    "                tk.Label(fenetre, text=texte).grid(column=Num_colonn, row=Num_row)        \n",
    "        else:\n",
    "            if Num_colonn%2 != 0:\n",
    "                Index_couleur = randint(0,Nb_Couleurs-1)\n",
    "                texte = \"Colonne N°\" + str(Num_colonn)+\"\\nLigne N°\" + str(Num_row)\n",
    "                tk.Label(fenetre, text=texte, bg=Couleurs[Index_couleur]).grid(column=Num_colonn, row=Num_row)\n",
    "            else:\n",
    "                texte = \"                    \\n                    \"\n",
    "                tk.Label(fenetre, text=texte).grid(column=Num_colonn, row=Num_row) \n",
    "\n",
    "fenetre.mainloop()"
   ]
  },
  {
   "cell_type": "markdown",
   "id": "19b2c187",
   "metadata": {},
   "source": [
    "<div style=\"text-align:center; border:0px ;background-color:FireBrick;margin:10px 10px 0px 10px;padding:10px;\">\n",
    "    </div>\n",
    "<div style=\"border:2px solid red;margin:0px 10px 10px 10px;padding:10px;\">\n",
    "<b><u>Important</u></b> : Dans le code ci-dessus, comme on souhaite réaliser des labels en boucle sur les colonnes et les lignes..<br>\n",
    ".. Dans ce cas, on ne peut plus aisément nommer les widgets !!<br><br>\n",
    "<i><span style=\"color:red\">Par conséquent, vous observez que l'on peut additionner les méthodes sur une même ligne,<br>\n",
    "    sans avoir à nommer l'objet :</span></i><br>\n",
    "    <ul><b>tk<span style=\"color:green\">.Label(fenetre, text=texte, bg=Couleurs[Index_couleur])</span><span style=\"color:orange\">.grid(column=Num_colonn, row=Num_row)</span></b><br>\n",
    "    </ul>Pour autant, la problématique persiste : on ne peut plus 'appeler' le moindre objet puisqu'ils n'ont pas été nommés !"
   ]
  },
  {
   "cell_type": "markdown",
   "id": "9e0c9ca5",
   "metadata": {},
   "source": [
    "<div style=\"text-align:center; border:0px ;background-color:FireBrick;margin:10px 10px 0px 10px;padding:10px;\">\n",
    "    </div>\n",
    "<div style=\"border:2px solid red;margin:0px 10px 10px 10px;padding:10px;\">\n",
    "<ul>\n",
    "    <li>La <b><u>méthode</u> <span style=\"color:red\">grid()</span> de la classe Tk permet de disposer un élément dans la fenetre</b></li>\n",
    "    <ul>\n",
    "    <li> 1er argument : N° de colonne,</li>\n",
    "        <li>2nd argument : N° de ligne</li>\n",
    "            </ul>"
   ]
  },
  {
   "cell_type": "markdown",
   "id": "c451cf3c",
   "metadata": {},
   "source": [
    "<div style=\"text-align:center; border:0px ;background-color:LightGreen;margin:10px 10px 0px 10px;padding:10px;\">\n",
    "    </div>\n",
    "<div style=\"border:2px solid green;margin:0px 10px 10px 10px;padding:10px;\">\n",
    "    Voici une autre manière de faire, en nommant <b><i>à la volée</i></b> les labels dans les boucles :<br><br>\n",
    "    <i><b>Testez le code ci-dessous</b></i>"
   ]
  },
  {
   "cell_type": "code",
   "execution_count": 17,
   "id": "c4a0427f",
   "metadata": {},
   "outputs": [
    {
     "name": "stdout",
     "output_type": "stream",
     "text": [
      "Label1\n",
      "Label2\n",
      "Label3\n",
      "Label4\n",
      "Label5\n",
      "Label6\n",
      "Label7\n",
      "Label8\n",
      "Label9\n",
      "Label10\n",
      "Label11\n",
      "Label12\n",
      "Label13\n",
      "Label14\n",
      "Label15\n",
      "Label16\n",
      "Label17\n",
      "Label18\n",
      "Label19\n",
      "Label20\n",
      "Label21\n",
      "Label22\n",
      "Label23\n",
      "Label24\n",
      "Label25\n",
      "Label26\n",
      "Label27\n",
      "Label28\n",
      "Label29\n",
      "Label30\n",
      "Label31\n",
      "Label32\n",
      "Label33\n",
      "Label34\n",
      "Label35\n",
      "Label36\n",
      "Label37\n",
      "Label38\n",
      "Label39\n",
      "Label40\n",
      "Label41\n",
      "Label42\n",
      "Label43\n",
      "Label44\n",
      "Label45\n",
      "Label46\n",
      "Label47\n",
      "Label48\n",
      "Label49\n",
      "Label50\n",
      "Label51\n",
      "Label52\n",
      "Label53\n",
      "Label54\n"
     ]
    }
   ],
   "source": [
    "from tkinter import *\n",
    "import random\n",
    "fenetre = Tk()\n",
    "fenetre.title(\"Ceci est ma fenêtre tkinter : \")\n",
    "fenetre.geometry(\"476x372\") \n",
    "Couleurs = ['red','white','purple','green','pink','orange','yellow']\n",
    "Nb_Couleurs = len(Couleurs)\n",
    "Num=1\n",
    "###############################################\n",
    "for Num_colonn in range(1,7):\n",
    "    for Num_row in range(1,10):\n",
    "        if Num_row%2 != 0:\n",
    "            if Num_colonn%2 == 0:\n",
    "                Index_couleur = randint(0,Nb_Couleurs-1)\n",
    "                texte = \"Colonne N°\" + str(Num_colonn)+\"\\nLigne N°\" + str(Num_row)\n",
    "                Name_Label = \"Label\" + str(Num)\n",
    "                Num += 1\n",
    "                print(Name_Label)\n",
    "                Name_Label = tk.Label(fenetre, text=texte, bg=Couleurs[Index_couleur]).grid(column=Num_colonn, row=Num_row)\n",
    "            else:\n",
    "                texte = \"                    \\n                    \"\n",
    "                Name_Label = \"Label\" + str(Num)\n",
    "                Num += 1\n",
    "                print(Name_Label)\n",
    "                Name_Label = tk.Label(fenetre, text=texte).grid(column=Num_colonn, row=Num_row)        \n",
    "        else:\n",
    "            if Num_colonn%2 != 0:\n",
    "                Index_couleur = randint(0,Nb_Couleurs-1)\n",
    "                texte = \"Colonne N°\" + str(Num_colonn)+\"\\nLigne N°\" + str(Num_row)\n",
    "                Name_Label = \"Label\" + str(Num)\n",
    "                Num += 1\n",
    "                print(Name_Label)\n",
    "                Name_Label = tk.Label(fenetre, text=texte, bg=Couleurs[Index_couleur]).grid(column=Num_colonn, row=Num_row)\n",
    "            else:\n",
    "                texte = \"                    \\n                    \"\n",
    "                Name_Label = \"Label\" + str(Num)\n",
    "                Num += 1\n",
    "                print(Name_Label)\n",
    "                Name_Label = tk.Label(fenetre, text=texte).grid(column=Num_colonn, row=Num_row) \n",
    "fenetre.mainloop()"
   ]
  },
  {
   "cell_type": "markdown",
   "id": "fd831f68",
   "metadata": {},
   "source": [
    " <u><h3> I.3 Ajout de zones de saisie de texte : </h3></u>"
   ]
  },
  {
   "cell_type": "markdown",
   "id": "eefd2a9d",
   "metadata": {},
   "source": [
    "<div style=\"text-align:center; border:0px ;background-color:FireBrick;margin:10px 10px 0px 10px;padding:10px;\">\n",
    "    </div>\n",
    "<div style=\"border:2px solid red;margin:0px 10px 10px 10px;padding:10px;\">\n",
    "<ul>\n",
    "    <li>La <b><u>méthode</u> <span style=\"color:red\">Entry()</span> de la classe Tk crée une zone de saisie de texte</b></li>\n",
    "    <ul>\n",
    "        <li>1er argument de cette méthode Entry() : 'fenetre' qui est l'<span style=\"color:red\">instance de classe Tk</span>,</li><br><ul>\n",
    "Zone_de_texte1 = tk.Entry(fenetre)<br><br>\n",
    "Ensuite, <br>\n",
    "    <li>La <b><u>méthode</u> <span style=\"color:red\">get()</span> permet de récupérer le contenu d'une zone de saisie de texte</b></li>        "
   ]
  },
  {
   "cell_type": "code",
   "execution_count": 18,
   "id": "e1584e44",
   "metadata": {},
   "outputs": [],
   "source": [
    "import tkinter as tk\n",
    "fenetre = tk.Tk()\n",
    "fenetre.title(\"Ceci est ma fenêtre : \")\n",
    "fenetre.geometry(\"300x200\")\n",
    "Zone_de_saisie1 = tk.Entry()\n",
    "Zone_de_saisie1.pack(expand=1)\n",
    "fenetre.mainloop()"
   ]
  },
  {
   "cell_type": "markdown",
   "id": "afa6e563",
   "metadata": {},
   "source": [
    "<div style=\"text-align:center; border:0px ;background-color:LightGreen;margin:10px 10px 0px 10px;padding:10px;\">\n",
    "    </div>\n",
    "<div style=\"border:2px solid green;margin:0px 10px 10px 10px;padding:10px;\">\n",
    "Bien évidemment, une zone de saisie de texte ne sert à rien tant qu'il n'y a pas de bouton pour valider ce que l'on a saisi.\n"
   ]
  },
  {
   "cell_type": "markdown",
   "id": "aabc4e9e",
   "metadata": {},
   "source": [
    " <u><h3> I.4 Ajout d'un bouton : </h3></u>"
   ]
  },
  {
   "cell_type": "markdown",
   "id": "950ab7d8",
   "metadata": {},
   "source": [
    "<div style=\"text-align:center; border:0px ;background-color:FireBrick;margin:10px 10px 0px 10px;padding:10px;\">\n",
    "    </div>\n",
    "<div style=\"border:2px solid red;margin:0px 10px 10px 10px;padding:10px;\">\n",
    "    Qui dit <b><span style=\"color:blue\">IHM</span></b>, dit <b><i><span style=\"color:blue\">widgets <u>actifs</u></span></i></b>\n",
    "<ul>\n",
    "    <li>La <b><u>méthode</u> <span style=\"color:red\">Button()</span> de la classe Tk crée un objet cliquable :</b></li>\n",
    "    <ul>\n",
    "        On les construit comme les labels.    "
   ]
  },
  {
   "cell_type": "markdown",
   "id": "b9c10ad9",
   "metadata": {},
   "source": [
    "<div style=\"text-align:center; border:0px ;background-color:LightGreen;margin:10px 10px 0px 10px;padding:10px;\">\n",
    "    </div>\n",
    "<div style=\"border:2px solid green;margin:0px 10px 10px 10px;padding:10px;\">\n",
    "    <i><b>Testez le code ci-dessous</b></i>"
   ]
  },
  {
   "cell_type": "code",
   "execution_count": 19,
   "id": "d89ac4c1",
   "metadata": {},
   "outputs": [],
   "source": [
    "import tkinter as tk\n",
    "fenetre = tk.Tk()\n",
    "fenetre.title(\"Ceci est votre formulaire : \")\n",
    "fenetre.geometry(\"350x200\")\n",
    "Marge = tk.Label(fenetre,text=\"             \")\n",
    "Demande = tk.Label(fenetre,text=\"Tapez votre prénom : \")\n",
    "Zone_de_saisie1 = tk.Entry()\n",
    "Bouton1 = tk.Button(fenetre, text=\"Validez ici\")\n",
    "Marge.grid(column=1)\n",
    "Demande.grid(column=2, row=1)\n",
    "Zone_de_saisie1.grid(column=2, row=2)\n",
    "Bouton1.grid(column=2, row=3)\n",
    "fenetre.mainloop()"
   ]
  },
  {
   "cell_type": "code",
   "execution_count": 29,
   "id": "e1c47a00",
   "metadata": {},
   "outputs": [],
   "source": [
    "import tkinter as tk\n",
    "fenetre = tk.Tk()\n",
    "fenetre.title(\"Ceci est votre formulaire : \")\n",
    "fenetre.geometry(\"500x200\")\n",
    "Marge_gauche = tk.Label(fenetre,text=\"             \")\n",
    "Marge_milieu = tk.Label(fenetre,text=\"             \")\n",
    "Marge_Ligne = tk.Label(fenetre,text=\"             \")\n",
    "Demande_Prenom = tk.Label(fenetre,text=\"Prénom : \")\n",
    "Demande_Nom = tk.Label(fenetre,text=\"Nom : \")\n",
    "Zone_de_saisie_prenom = tk.Entry()\n",
    "Zone_de_saisie_nom = tk.Entry()\n",
    "Bouton = tk.Button(fenetre, text=\"Validez ici\")\n",
    "Marge_gauche.grid(column=1)\n",
    "\n",
    "Demande_Prenom.grid(column=2, row=1)\n",
    "Zone_de_saisie_prenom.grid(column=2, row=2)\n",
    "Marge_Ligne.grid(column=3, row=3)\n",
    "Bouton.grid(column=3, row=5)\n",
    "Marge_milieu.grid(column=3)\n",
    "Demande_Nom.grid(column=4, row=1)\n",
    "Zone_de_saisie_nom.grid(column=4, row=2)\n",
    "\n",
    "\n",
    "fenetre.mainloop()"
   ]
  },
  {
   "cell_type": "markdown",
   "id": "052358b7",
   "metadata": {},
   "source": [
    "<div style=\"text-align:center; border:0px ;background-color:LightGreen;margin:10px 10px 0px 10px;padding:10px;\">\n",
    "    </div>\n",
    "<div style=\"border:2px solid green;margin:0px 10px 10px 10px;padding:10px;\">\n",
    "Pour l'instant, nous avons bien créé une interface entre l'homme et la machine, <br>\n",
    "    <ul>mais elle n'est pas du tout interactive : si on clique sur le bouton rien ne se passe !"
   ]
  },
  {
   "cell_type": "markdown",
   "id": "b8b0d72d",
   "metadata": {},
   "source": [
    " <u><h2> II. Programmation évènementielle avec tkinter : </h2></u>"
   ]
  },
  {
   "cell_type": "markdown",
   "id": "0ac74a42",
   "metadata": {},
   "source": [
    "<div style=\"text-align:center; border:0px ;background-color:FireBrick;margin:10px 10px 0px 10px;padding:10px;\">\n",
    "    </div>\n",
    "<div style=\"border:2px solid red;margin:0px 10px 10px 10px;padding:10px;\">\n",
    "Dans la <b><span style=\"color:red\">programmation évènementielle</span></b>, le programme est découpé en 2 parties : \n",
    "    <ul>\n",
    "        <li>Dans une <u>1ère partie</u>, on décrit, dans des fonctions ( = <i><b><span style=\"color:red\">gestionnaires d'évènements</span></b></i>), les conséquences d'interactions avec des éléments de l'interface :</li>\n",
    "        <ul>\n",
    "            <li>Ex1 : Le fond devient rouge </li>\n",
    "            <li>Ex2 : Le texte est modifié</li>\n",
    "        </ul>\n",
    "        <li>Dans une <u>2ème partie</u>, on va créer les liens entre :\n",
    "            <ul>\n",
    "                <li>l'élément interactif (Ex : le bouton), et</li>\n",
    "                <li>1 fonction (=conséquence) décrite en 1ère partie</li>\n",
    "            </ul>\n",
    "    </ul>\n",
    "    C'est justement la méthode <b><span style=\"color:red\">mainloop()</span></b> qui <b><u><i>gère l'attente d'évènements</i></u></b> et qui appelle le gestionnaire d'un évènement précis lorsque celui est activé."
   ]
  },
  {
   "cell_type": "markdown",
   "id": "e42cadcb",
   "metadata": {},
   "source": [
    "<div style=\"text-align:center; border:0px ;background-color:LightGreen;margin:10px 10px 0px 10px;padding:10px;\">\n",
    "    </div>\n",
    "<div style=\"border:2px solid green;margin:0px 10px 10px 10px;padding:10px;\">\n",
    "    <i><b>Testez le code ci-dessous</b></i>"
   ]
  },
  {
   "cell_type": "code",
   "execution_count": 9,
   "id": "4a9a3698",
   "metadata": {},
   "outputs": [],
   "source": [
    "import tkinter as tk\n",
    "##############################\n",
    "def Action_bouton(e):\n",
    "    Rep = Zone_de_saisie1.get()\n",
    "    New_text = \"Merci ! Bienvenue \" + str(Rep)\n",
    "    Commentaire.config(text = New_text)\n",
    "###############################    \n",
    "fenetre = tk.Tk()\n",
    "fenetre.title(\"Ceci est votre formulaire : \")\n",
    "fenetre.geometry(\"350x200\")\n",
    "###############################\n",
    "Marge = tk.Label(fenetre,text=\"             \")\n",
    "Demande = tk.Label(fenetre,text=\"Tapez votre prénom : \")\n",
    "Zone_de_saisie1 = tk.Entry()\n",
    "Bouton1 = tk.Button(fenetre, text=\"Validez ici\")\n",
    "Commentaire = tk.Label(fenetre, text = \"..En attente de votre prénom.\")\n",
    "Ligne_vide = tk.Label(fenetre, text=\"\")\n",
    "###############################\n",
    "Marge.grid(column=1)\n",
    "Demande.grid(column=2, row=1)\n",
    "Zone_de_saisie1.grid(column=2, row=2)\n",
    "Bouton1.grid(column=2, row=3)\n",
    "Ligne_vide.grid(column=2, row=4)\n",
    "Commentaire.grid(column=2, row=5)\n",
    "###############################\n",
    "Bouton1.bind(\"<Button-1>\", Action_bouton)\n",
    "###############################\n",
    "fenetre.mainloop()"
   ]
  },
  {
   "cell_type": "markdown",
   "id": "20cc3fe0",
   "metadata": {},
   "source": [
    "<div style=\"text-align:center; border:0px ;background-color:FireBrick;margin:10px 10px 0px 10px;padding:10px;\">\n",
    "    </div>\n",
    "<div style=\"border:2px solid red;margin:0px 10px 10px 10px;padding:10px;\">\n",
    "<ul>\n",
    "    <li>Ligne 4 : La <b><u>méthode</u> <span style=\"color:red\">***.get()</span> de la classe Tk permet de récupérer la valeur située en zone de saisie, objet nommé ***</b></li><br>\n",
    "        <li>Ligne 6 : La <b><u>méthode</u> <span style=\"color:red\">###.config()</span> de la classe Tk permet de modifier la valeur 'text' de l'ojet Lbel nommé ###</b></li><br>\n",
    "        <li>Ligne 26 : La <b><u>méthode</u> <span style=\"color:red\">%%%.bind()</span> de la classe Tk permet de lier l'évènement se produisant sur l'objet %%% à une fonction : </b></li>\n",
    "    <ul>\n",
    "        <li>1er argument : <span style=\"color:red\">\"&lt;Button-1&gt;\" </span>: Il s'agit d'un <u>type</u> de bouton <u>tkinter</u>: <span style=\"color:red\">attention à la casse</span></li>\n",
    "            <li>2ème argument : <span style=\"color:red\">le nom de la fonction gestionnaire d'évènement.</li></ul>\n"
   ]
  },
  {
   "cell_type": "markdown",
   "id": "d91a2307",
   "metadata": {},
   "source": [
    "<div style=\"text-align:center; border:0px ;background-color:DodgerBlue;margin:10px 10px 0px 10px;padding:10px;\">\n",
    "    </div>\n",
    "<div style=\"border:2px solid DarkBlue;margin:0px 10px 10px 10px;padding:10px;\">\n",
    "<h4><u>Exercice 72</u> : </h4><br>\n",
    "    Réalisez, dans une fenêtre tkinter, le jeu de \"<i><b>Devine le nombre</b></i>\"<br>\n",
    "    <ul>\n",
    "        <li>Le jeu démarre en demandant de trouver un nombre (ce nombre est choisi par la machine au hasard (1-100)</li>\n",
    "        <li>Le joueur saisie son nombre dans une zone de saisie, et valide en appuyant sur un bouton</li>\n",
    "        <li>Le jeu écrit :</li>\n",
    "        <ul>\n",
    "            <li>plus bas : si le nombre est trop haut</li>\n",
    "            <li>plus haut : si le nombre est trop bas</li>\n",
    "            <li>gagné ! : si le nombre est bon</li>\n",
    "        </ul>\n",
    "        "
   ]
  },
  {
   "cell_type": "markdown",
   "id": "3f8a058d",
   "metadata": {},
   "source": [
    "<div style=\"text-align:center; border:0px ;background-color:DodgerBlue;margin:10px 10px 0px 10px;padding:10px;\">\n",
    "    </div>\n",
    "<div style=\"border:2px solid DarkBlue;margin:0px 10px 10px 10px;padding:10px;\">\n",
    "<h4><u>Exercice 73</u> : </h4><br>\n",
    "    Réalisez, dans une fenêtre tkinter, le jeu du \"<i><b>Pendu</b></i>\"<br>\n",
    "    <ul>\n",
    "        <li>Un mot est choisi au hasard par la machine dans une liste de mots</li>\n",
    "        <li>Le jeu démarre en présentant son mot avec des tirets bas à la place des lettres, et des espaces entre chacun :</li>\n",
    "        <ul>\n",
    "            Ex : hello --> _ _ _ _ _\n",
    "            <li>Le jeu présente aussi : 'Nombre de mauvais coup = 0' (compteur)</li>\n",
    "        <li>Le jeu demande une lettre présente dans le mot inconnu</li>\n",
    "        <li>Le joueur saisie sa lettre dans une zone de saisie, et valide en appuyant sur un bouton</li>\n",
    "        <li>Le jeu écrit :</li>\n",
    "        <ul>\n",
    "            <li>oui, et place les bonnes lettres aux bon endroits dans le mot inconnu : _ _ l l _</li>\n",
    "            <li>non : un compteur de mauvais coup est augmenté et raffraichit (3 mauvais coup maximum !)</li>\n",
    "            <li>gagné ! : si le mot est totallement trouvé.</li>\n",
    "        </ul>\n",
    "        "
   ]
  },
  {
   "cell_type": "markdown",
   "id": "d5ce8aa4",
   "metadata": {},
   "source": [
    "<div style=\"text-align:center; border:0px ;background-color:DodgerBlue;margin:10px 10px 0px 10px;padding:10px;\">\n",
    "    </div>\n",
    "<div style=\"border:2px solid DarkBlue;margin:0px 10px 10px 10px;padding:10px;\">\n",
    "<h4><u>Exercice 74</u> : </h4><br>\n",
    "Complétez le jeu du Pendu précédent en rajoutant un visuel sur l'échaffaudage qui se remplit au fur et à mesure comme ci-dessous :<br><br>"
   ]
  },
  {
   "cell_type": "code",
   "execution_count": 20,
   "id": "23a08229",
   "metadata": {
    "scrolled": true
   },
   "outputs": [
    {
     "name": "stdout",
     "output_type": "stream",
     "text": [
      "Construction facile 2d dans le code en print 3 quotes :\n",
      "\n",
      " --------x\n",
      "|       |\n",
      "|       O\n",
      "|     ~-|-~\n",
      "|      / \\\n",
      "|___\n",
      "\n",
      "Puis, construction des étapes du dessin, en 1d (1 seule quote) avec des antiSlash n pour retour à la ligne : \n"
     ]
    }
   ],
   "source": [
    "print(\"Construction facile 2d dans le code en print 3 quotes :\")\n",
    "print(\"\"\"\n",
    " --------x\n",
    "|       |\n",
    "|       O\n",
    "|     ~-|-~\n",
    "|      / \\\\\n",
    "|___\"\"\")\n",
    "print(\"\\nPuis, construction des étapes du dessin, en 1d (1 seule quote) avec des antiSlash n pour retour à la ligne : \")"
   ]
  },
  {
   "cell_type": "code",
   "execution_count": 5,
   "id": "c361162e",
   "metadata": {
    "scrolled": false
   },
   "outputs": [
    {
     "name": "stdout",
     "output_type": "stream",
     "text": [
      "--------\n",
      "|       |\n",
      "|\n",
      "|\n",
      "|\n",
      "|___\n"
     ]
    }
   ],
   "source": [
    "print(\"--------x\\n|       |\\n|\\n|\\n|\\n|___\")"
   ]
  },
  {
   "cell_type": "code",
   "execution_count": 10,
   "id": "86b09a33",
   "metadata": {
    "scrolled": true
   },
   "outputs": [
    {
     "name": "stdout",
     "output_type": "stream",
     "text": [
      "--------x\n",
      "|       |\n",
      "|       O\n",
      "|\n",
      "|\n",
      "|___\n"
     ]
    }
   ],
   "source": [
    "print(\"--------x\\n|       |\\n|       O\\n|\\n|\\n|___\")"
   ]
  },
  {
   "cell_type": "code",
   "execution_count": 11,
   "id": "ba872687",
   "metadata": {
    "scrolled": true
   },
   "outputs": [
    {
     "name": "stdout",
     "output_type": "stream",
     "text": [
      "--------x\n",
      "|       |\n",
      "|       O\n",
      "|     ~-|\n",
      "|\n",
      "|___\n"
     ]
    }
   ],
   "source": [
    "print(\"--------x\\n|       |\\n|       O\\n|     ~-|\\n|\\n|___\")"
   ]
  },
  {
   "cell_type": "code",
   "execution_count": 12,
   "id": "b3f62a46",
   "metadata": {
    "scrolled": false
   },
   "outputs": [
    {
     "name": "stdout",
     "output_type": "stream",
     "text": [
      "--------x\n",
      "|       |\n",
      "|       O\n",
      "|     ~-|-~\n",
      "|\n",
      "|___\n"
     ]
    }
   ],
   "source": [
    "print(\"--------x\\n|       |\\n|       O\\n|     ~-|-~\\n|\\n|___\")"
   ]
  },
  {
   "cell_type": "code",
   "execution_count": 13,
   "id": "c859c24c",
   "metadata": {
    "scrolled": false
   },
   "outputs": [
    {
     "name": "stdout",
     "output_type": "stream",
     "text": [
      "--------x\n",
      "|       |\n",
      "|       O\n",
      "|     ~-|-~\n",
      "|      / \n",
      "|___\n"
     ]
    }
   ],
   "source": [
    "print(\"--------x\\n|       |\\n|       O\\n|     ~-|-~\\n|      / \\n|___\")"
   ]
  },
  {
   "cell_type": "code",
   "execution_count": 9,
   "id": "59d1c79f",
   "metadata": {
    "scrolled": true
   },
   "outputs": [
    {
     "name": "stdout",
     "output_type": "stream",
     "text": [
      "--------\n",
      "|       |\n",
      "|       O\n",
      "|     ~-|-~\n",
      "|      / \\\n",
      "|___\n"
     ]
    }
   ],
   "source": [
    "print(\"--------x\\n|       |\\n|       O\\n|     ~-|-~\\n|      / \\\\\\n|___\")"
   ]
  },
  {
   "cell_type": "code",
   "execution_count": 16,
   "id": "0b78f684",
   "metadata": {
    "scrolled": false
   },
   "outputs": [
    {
     "name": "stdout",
     "output_type": "stream",
     "text": [
      "--------x\n",
      "|       |\n",
      "|\n",
      "|\n",
      "|\n",
      "|___\n",
      "^^^^^^^^^^^^^^^^^^^^^^^^^^^^\n",
      "--------x\n",
      "|       |\n",
      "|       O\n",
      "|\n",
      "|\n",
      "|___\n",
      "^^^^^^^^^^^^^^^^^^^^^^^^^^^^\n",
      "--------x\n",
      "|       |\n",
      "|       O\n",
      "|     ~-|\n",
      "|\n",
      "|___\n",
      "^^^^^^^^^^^^^^^^^^^^^^^^^^^^\n",
      "--------x\n",
      "|       |\n",
      "|       O\n",
      "|     ~-|-~\n",
      "|\n",
      "|___\n",
      "^^^^^^^^^^^^^^^^^^^^^^^^^^^^\n",
      "--------x\n",
      "|       |\n",
      "|       O\n",
      "|     ~-|-~\n",
      "|      / \n",
      "|___\n",
      "^^^^^^^^^^^^^^^^^^^^^^^^^^^^\n",
      "--------x\n",
      "|       |\n",
      "|       O\n",
      "|     ~-|-~\n",
      "|      / \\\n",
      "|___\n",
      "^^^^^^^^^^^^^^^^^^^^^^^^^^^^\n"
     ]
    }
   ],
   "source": [
    "Sequence_pendu = [[\"--------x\\n|       |\\n|\\n|\\n|\\n|___\"],\n",
    "                  [\"--------x\\n|       |\\n|       O\\n|\\n|\\n|___\"],\n",
    "                  [\"--------x\\n|       |\\n|       O\\n|     ~-|\\n|\\n|___\"],\n",
    "                  [\"--------x\\n|       |\\n|       O\\n|     ~-|-~\\n|\\n|___\"],\n",
    "                  [\"--------x\\n|       |\\n|       O\\n|     ~-|-~\\n|      / \\n|___\"],\n",
    "                  [\"--------x\\n|       |\\n|       O\\n|     ~-|-~\\n|      / \\\\\\n|___\"]]\n",
    "for Etape_de_pendaison in range(len(Sequence_pendu)):\n",
    "    print(Sequence_pendu[Etape_de_pendaison][0])\n",
    "    print(\"^^^^^^^^^^^^^^^^^^^^^^^^^^^^\")"
   ]
  },
  {
   "cell_type": "markdown",
   "id": "177ea12c",
   "metadata": {},
   "source": [
    "Au final, dans tkinter, c'est plus compliqué :<br>\n",
    "<ul>En effet,le print est automatiquement placé au milieu de colonne..<br>\n",
    "et donc tout dépend la longeur de ce que l'on souhaite printer..\n",
    "<br>\n",
    "<ul>donc il va falloir rajouter/retirer des espaces aux bons endroits (.. à tester)"
   ]
  },
  {
   "cell_type": "code",
   "execution_count": 11,
   "id": "dccf6487",
   "metadata": {},
   "outputs": [],
   "source": [
    "Sequence_pendu = [[\"--------x  \\n|             |  \\n|                \\n|                \\n|                \\n|___           \"],\n",
    "                  [\"--------x  \\n|             |  \\n|            O \\n|                \\n|                \\n|___           \"],\n",
    "                  [\"--------x  \\n|             |  \\n|            O \\n|        ~-|   \\n|                \\n|___           \"],\n",
    "                  [\"--------x  \\n|             |  \\n|             O\\n  |         ~-|-~\\n|                \\n|___           \"],\n",
    "                  [\"--------x  \\n|             |  \\n|             O\\n  |         ~-|-~\\n|             /   \\n|___           \"],\n",
    "                  [\"--------x  \\n|             |  \\n|             O\\n  |         ~-|-~\\n|            / \\\\\\n|___           \"]]\n",
    "Pendu = 5\n",
    "###############################\n",
    "fenetre = tk.Tk()\n",
    "fenetre.geometry(\"500x100\")\n",
    "###############################\n",
    "Marge = tk.Label(fenetre, text=\"            \")\n",
    "Dessin_pendu1 = tk.Label(fenetre, text=str(Sequence_pendu[0][0]))\n",
    "Dessin_pendu2 = tk.Label(fenetre, text=str(Sequence_pendu[1][0]))\n",
    "Dessin_pendu3 = tk.Label(fenetre, text=str(Sequence_pendu[2][0]))\n",
    "Dessin_pendu4 = tk.Label(fenetre, text=str(Sequence_pendu[3][0]))\n",
    "Dessin_pendu5 = tk.Label(fenetre, text=str(Sequence_pendu[4][0]))\n",
    "Dessin_pendu6 = tk.Label(fenetre, text=str(Sequence_pendu[5][0]))\n",
    "###############################\n",
    "Marge.grid(column=1, row=0)\n",
    "Dessin_pendu1.grid(column=2, row=0)\n",
    "Dessin_pendu2.grid(column=3, row=0)\n",
    "Dessin_pendu3.grid(column=4, row=0)\n",
    "Dessin_pendu4.grid(column=5, row=0)\n",
    "Dessin_pendu5.grid(column=6, row=0)\n",
    "Dessin_pendu6.grid(column=7, row=0)\n",
    "###############################\n",
    "fenetre.mainloop()"
   ]
  },
  {
   "cell_type": "code",
   "execution_count": null,
   "id": "2df6903e",
   "metadata": {},
   "outputs": [],
   "source": []
  }
 ],
 "metadata": {
  "kernelspec": {
   "display_name": "Python 3 (ipykernel)",
   "language": "python",
   "name": "python3"
  },
  "language_info": {
   "codemirror_mode": {
    "name": "ipython",
    "version": 3
   },
   "file_extension": ".py",
   "mimetype": "text/x-python",
   "name": "python",
   "nbconvert_exporter": "python",
   "pygments_lexer": "ipython3",
   "version": "3.9.13"
  }
 },
 "nbformat": 4,
 "nbformat_minor": 5
}
